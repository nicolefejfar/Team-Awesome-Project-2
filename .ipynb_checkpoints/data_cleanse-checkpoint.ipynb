{
 "cells": [
  {
   "cell_type": "code",
   "execution_count": null,
   "metadata": {},
   "outputs": [],
   "source": [
    "# Dependencies\n",
    "import pandas as pd\n",
    "import numpy as np\n",
    "import requests\n",
    "import json\n",
    "import re\n",
    "from pprint import pprint"
   ]
  },
  {
   "cell_type": "markdown",
   "metadata": {},
   "source": [
    "### Neighborhood info in the ACS file\n",
    "http://www.mncompass.org/profiles/neighborhoods/minneapolis-saint-paul\n",
    "\n",
    "Source: 2014-2018 American Community Survey 5-year estimates, adjusted to fit current neighborhood boundaries using the 2010 Census counts. The 5-year estimates represent averages of data collected over that time period. (courtesy of mncompass.org)"
   ]
  },
  {
   "cell_type": "code",
   "execution_count": null,
   "metadata": {},
   "outputs": [],
   "source": [
    "# Load & Visualize ACS data\n",
    "ACS = pd.read_csv('resources/profile_download_file_msp_neighborhoods_2014_2018.csv', encoding='UTF-8')\n",
    "print(ACS.shape)\n",
    "ACS.head(1)"
   ]
  },
  {
   "cell_type": "code",
   "execution_count": null,
   "metadata": {
    "scrolled": true
   },
   "outputs": [],
   "source": [
    "# Reduce columns (Note I did not include margin of error columns)\n",
    "# *** Folwell has no info\n",
    "ACS_reduced = ACS[['Neighborhood', 'City', 'Total population',\n",
    "                         'White - Share',\n",
    "                         'Of Color - Share',\n",
    "#                          'Foreign born - Share',\n",
    "#                          'English only - Share',\n",
    "#                          'Language other than English - Share',\n",
    "#                          'Speak English less than \"very well\" - Share',\n",
    "#                          'Population with a disability - Share',\n",
    "                         'Total housing units',\n",
    "                         'Total households',\n",
    "                         'Family households - Share',\n",
    "                         'Married-couple family households - Share',\n",
    "#                          'Single-person family households - Share',\n",
    "                         'Nonfamily households - Share',\n",
    "#                          'Householder living alone - Share',\n",
    "#                          '65 years and over - Share',\n",
    "#                          'Households with one or more children under 18 years - Share',\n",
    "#                          'Households with one or more people 65 years and over',\n",
    "                         'Vacant housing units - Share',\n",
    "                         'Occupied housing units - Share',\n",
    "                         'Average household size (occupied)',\n",
    "                         'Owner-occupied - Share',\n",
    "                         'Average owner-occupied household size',\n",
    "                         'Renter-occupied - Share',\n",
    "                         'Average renter-occupied household size',\n",
    "#                          'No vehicles - Share',\n",
    "#                          'Moved in 2010 or later - Share',\n",
    "#                          'Moved in 2000 to 2009 - Share',\n",
    "#                          'Cost-burdened households - Share',\n",
    "#                          'Cost-burdened owner households - Share',\n",
    "#                          'Cost-burdened renter households - Share',\n",
    "#                          'Median rent (2008-2012; 2012 dollars)',\n",
    "#                          'Median household income (2008-2012; 2012 dollars)',\n",
    "#                          'Less than $35000 - Share',\n",
    "#                          '$35000-$49999 - Share',\n",
    "#                          '$50000-$74999 - Share',\n",
    "#                          '$75000-$99999 - Share',\n",
    "#                          '$100000 or more - Share',\n",
    "#                          'With income below poverty - Share',\n",
    "#                          'With income 100-149% of poverty - Share',\n",
    "#                          'With income 150-199% of poverty - Share',\n",
    "#                          'With income 200% of poverty or higher - Share',\n",
    "#                          'Proportion of working age adults who are employed - Share',\n",
    "#                          'Unemployment rate - Share',\n",
    "#                          'Population (25 years and older) - Share',\n",
    "#                          'Less than high school - Share',\n",
    "#                          'High school diploma or GED - Share',\n",
    "#                          \"Some college or associate's degree - Share\",\n",
    "#                          \"Bachelor's degree - Share\",\n",
    "#                          'Graduate or professional degree - Share',\n",
    "#                          'Car; truck; or van (including passengers) - Share',\n",
    "#                          'Public transportation - Share',\n",
    "#                          'Walked; biked; worked at home; or other - Share',\n",
    "#                          'Less than 10 minutes - Share',\n",
    "#                          '10-19 minutes - Share',\n",
    "#                          '20-29 minutes - Share',\n",
    "#                          '30 minutes or longer - Share',\n",
    "#                          'Population without health insurance coverage - Share',\n",
    "                         ]]\n",
    "print(ACS_reduced.shape)\n",
    "ACS_reduced.head(1)"
   ]
  },
  {
   "cell_type": "markdown",
   "metadata": {},
   "source": [
    "### Neighborhood info in the Census file\n",
    "http://www.mncompass.org/profiles/neighborhoods/minneapolis-saint-paul\n",
    "\n",
    "Source: 2010 Census counts (courtesy of mncompass.org)"
   ]
  },
  {
   "cell_type": "code",
   "execution_count": null,
   "metadata": {},
   "outputs": [],
   "source": [
    "# Load & Visualize Census data\n",
    "census = pd.read_csv('resources/profile_download_file_msp_neighborhoods_2010.csv', encoding='UTF-8')\n",
    "print(census.shape)\n",
    "census.head(1)"
   ]
  },
  {
   "cell_type": "code",
   "execution_count": null,
   "metadata": {},
   "outputs": [],
   "source": [
    "# Reduce columns, matching to ACS dataframe\n",
    "census_reduced = census[['Neighborhood', 'City', 'Total population',\n",
    "                         'White - Share',\n",
    "                         'Of Color - Share',\n",
    "                         'Total housing units',\n",
    "                         'Total households',\n",
    "                         'Family households - Share',\n",
    "                         'Married-couple family households - Share',\n",
    "                         'Nonfamily households - Share',\n",
    "                         'Vacant housing units - Share',\n",
    "                         'Occupied housing units - Share',\n",
    "                         'Average household size (occupied)',\n",
    "                         'Owner-occupied - Share',\n",
    "                         'Average owner-occupied household size',\n",
    "                         'Renter-occupied - Share',\n",
    "                         'Average renter-occupied household size',\n",
    "                         ]]\n",
    "print(census_reduced.shape)\n",
    "census_reduced.head(1)"
   ]
  },
  {
   "cell_type": "code",
   "execution_count": null,
   "metadata": {},
   "outputs": [],
   "source": [
    "# Remove Percent Signs? Rename columns?"
   ]
  },
  {
   "cell_type": "code",
   "execution_count": null,
   "metadata": {},
   "outputs": [],
   "source": [
    "# Merge ACS & census files & visualize data\n",
    "merged_census_mini = pd.merge(ACS_reduced, census_reduced, how = \"left\", on = ['Neighborhood', 'City', 'Total population',\n",
    "                         'White - Share',\n",
    "                         'Of Color - Share',\n",
    "                         'Total housing units',\n",
    "                         'Total households',\n",
    "                         'Family households - Share',\n",
    "                         'Married-couple family households - Share',\n",
    "                         'Nonfamily households - Share',\n",
    "                         'Vacant housing units - Share',\n",
    "                         'Occupied housing units - Share',\n",
    "                         'Average household size (occupied)',\n",
    "                         'Owner-occupied - Share',\n",
    "                         'Average owner-occupied household size',\n",
    "                         'Renter-occupied - Share',\n",
    "                         'Average renter-occupied household size',\n",
    "                         ])\n",
    "print(merged_census_mini.shape)\n",
    "merged_census_mini.head(1)"
   ]
  },
  {
   "cell_type": "code",
   "execution_count": null,
   "metadata": {},
   "outputs": [],
   "source": [
    "# Save merged file to new csv\n",
    "# Save to csv\n",
    "merged_census_mini.to_csv('resources/merged_census_mini.csv', index=False)"
   ]
  },
  {
   "cell_type": "markdown",
   "metadata": {},
   "source": [
    "### Minneapolis crime data\n",
    "https://opendata.minneapolismn.gov/datasets/neighborhood-crime-stats"
   ]
  },
  {
   "cell_type": "code",
   "execution_count": null,
   "metadata": {},
   "outputs": [],
   "source": [
    "# Load & Visualize Mpls crime data\n",
    "mplsCrime = pd.read_csv('resources/NEIGHBORHOOD_CRIME_STATS_MPLS.csv', encoding='UTF-8')\n",
    "print(mplsCrime.shape)\n",
    "mplsCrime.head(1)"
   ]
  },
  {
   "cell_type": "code",
   "execution_count": null,
   "metadata": {},
   "outputs": [],
   "source": [
    "# Filter out unassigned neighborhoods\n",
    "mplsCrime = mplsCrime.loc[(mplsCrime['neighborhood'] != '** NOT ASSIGNED **') &\\\n",
    "                        (mplsCrime['neighborhood'] != 'Z_** NOT ASSIGNED **'), :]\n",
    "\n",
    "print(mplsCrime.shape)\n",
    "mplsCrime.head(1)"
   ]
  },
  {
   "cell_type": "code",
   "execution_count": null,
   "metadata": {},
   "outputs": [],
   "source": [
    "# Filter to 2018 - 2020\n",
    "mplsCrime = mplsCrime.loc[(mplsCrime['reportYear'] >= 2017), :]\n",
    "print(mplsCrime.shape)\n",
    "mplsCrime.head()"
   ]
  },
  {
   "cell_type": "markdown",
   "metadata": {},
   "source": [
    "### St. Paul crime data\n",
    "https://information.stpaul.gov/Public-Safety/Crime-Incident-Report-Dataset/gppb-g9cg"
   ]
  },
  {
   "cell_type": "code",
   "execution_count": null,
   "metadata": {},
   "outputs": [],
   "source": [
    "# Load & Visualize St. Paul crime data\n",
    "sp_crime = pd.read_csv('resources/Crime_Incident_Report_-_Dataset_StPaul.csv', encoding='UTF-8')\n",
    "print(sp_crime.shape)\n",
    "sp_crime.head(1)"
   ]
  },
  {
   "cell_type": "code",
   "execution_count": null,
   "metadata": {},
   "outputs": [],
   "source": [
    "# Filter out unwanted crimes\n",
    "sp_crime = sp_crime.loc[(sp_crime['INCIDENT'] == 'Theft') |\\\n",
    "                        (sp_crime['INCIDENT'] == 'Auto Theft') |\\\n",
    "                        (sp_crime['INCIDENT'] == 'Burglary') |\\\n",
    "                        (sp_crime['INCIDENT'] == 'Agg. Assault') |\\\n",
    "                        (sp_crime['INCIDENT'] == 'Robbery') |\\\n",
    "                        (sp_crime['INCIDENT'] == 'Agg. Assault Dom.') |\\\n",
    "                        (sp_crime['INCIDENT'] == 'Arson') |\\\n",
    "                        (sp_crime['INCIDENT'] == 'Rape') |\\\n",
    "                        (sp_crime['INCIDENT'] == 'Homicide'), :]\n",
    "\n",
    "print(sp_crime.shape)\n",
    "sp_crime.head(1)"
   ]
  },
  {
   "cell_type": "code",
   "execution_count": null,
   "metadata": {},
   "outputs": [],
   "source": [
    "# Convert date column\n",
    "sp_crime['DATE'] = pd.to_datetime(sp_crime['DATE'])\n",
    "\n",
    "# Filter to 2018 - 2020\n",
    "sp_crime = sp_crime.loc[(sp_crime['DATE'] >= '01-01-2018') &\\\n",
    "                        (sp_crime['DATE'] <= '12-31-2020'), :]\n",
    "print(sp_crime.shape)\n",
    "sp_crime.tail()"
   ]
  },
  {
   "cell_type": "code",
   "execution_count": null,
   "metadata": {},
   "outputs": [],
   "source": []
  }
 ],
 "metadata": {
  "kernelspec": {
   "display_name": "Python 3.6.10 64-bit ('NewPythonData': conda)",
   "language": "python",
   "name": "python361064bitnewpythondataconda482278f60edf4a67b1da8eed8d43fbf2"
  },
  "language_info": {
   "codemirror_mode": {
    "name": "ipython",
    "version": 3
   },
   "file_extension": ".py",
   "mimetype": "text/x-python",
   "name": "python",
   "nbconvert_exporter": "python",
   "pygments_lexer": "ipython3",
   "version": "3.6.10"
  }
 },
 "nbformat": 4,
 "nbformat_minor": 4
}
