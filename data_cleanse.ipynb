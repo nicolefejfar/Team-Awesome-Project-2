{
 "cells": [
  {
   "cell_type": "code",
   "execution_count": null,
   "metadata": {},
   "outputs": [],
   "source": [
    "# Dependencies\n",
    "import pandas as pd"
   ]
  },
  {
   "cell_type": "markdown",
   "metadata": {},
   "source": [
    "### Neighborhood info in the ACS file\n",
    "http://www.mncompass.org/profiles/neighborhoods/minneapolis-saint-paul\n",
    "\n",
    "Source: 2014-2018 American Community Survey 5-year estimates, adjusted to fit current neighborhood boundaries using the 2010 Census counts. The 5-year estimates represent averages of data collected over that time period. (courtesy of mncompass.org)"
   ]
  },
  {
   "cell_type": "code",
   "execution_count": null,
   "metadata": {},
   "outputs": [],
   "source": [
    "# Load & Visualize ACS data\n",
    "ACS = pd.read_csv('resources/acs_2014_2018.csv', encoding='UTF-8')\n",
    "print(ACS.shape)\n",
    "ACS.head(1)"
   ]
  },
  {
   "cell_type": "code",
   "execution_count": null,
   "metadata": {
    "scrolled": true
   },
   "outputs": [],
   "source": [
    "# Reduce columns (Note I did not include margin of error columns)\n",
    "# *** Folwell has no info\n",
    "ACS_reduced = ACS[['Neighborhood', 'City', 'Total population',\n",
    "                         'White - Share',\n",
    "                         'Of Color - Share',\n",
    "#                          'Foreign born - Share',\n",
    "#                          'English only - Share',\n",
    "#                          'Language other than English - Share',\n",
    "#                          'Speak English less than \"very well\" - Share',\n",
    "#                          'Population with a disability - Share',\n",
    "                         'Total housing units',\n",
    "                         'Total households',\n",
    "                         'Family households - Share',\n",
    "                         'Married-couple family households - Share',\n",
    "#                          'Single-person family households - Share',\n",
    "                         'Nonfamily households - Share',\n",
    "#                          'Householder living alone - Share',\n",
    "#                          '65 years and over - Share',\n",
    "#                          'Households with one or more children under 18 years - Share',\n",
    "#                          'Households with one or more people 65 years and over',\n",
    "                         'Vacant housing units - Share',\n",
    "                         'Occupied housing units - Share',\n",
    "                         'Average household size (occupied)',\n",
    "                         'Owner-occupied - Share',\n",
    "                         'Average owner-occupied household size',\n",
    "                         'Renter-occupied - Share',\n",
    "                         'Average renter-occupied household size',\n",
    "#                          'No vehicles - Share',\n",
    "#                          'Moved in 2010 or later - Share',\n",
    "#                          'Moved in 2000 to 2009 - Share',\n",
    "#                          'Cost-burdened households - Share',\n",
    "#                          'Cost-burdened owner households - Share',\n",
    "#                          'Cost-burdened renter households - Share',\n",
    "#                          'Median rent (2008-2012; 2012 dollars)',\n",
    "#                          'Median household income (2008-2012; 2012 dollars)',\n",
    "#                          'Less than $35000 - Share',\n",
    "#                          '$35000-$49999 - Share',\n",
    "#                          '$50000-$74999 - Share',\n",
    "#                          '$75000-$99999 - Share',\n",
    "#                          '$100000 or more - Share',\n",
    "#                          'With income below poverty - Share',\n",
    "#                          'With income 100-149% of poverty - Share',\n",
    "#                          'With income 150-199% of poverty - Share',\n",
    "#                          'With income 200% of poverty or higher - Share',\n",
    "#                          'Proportion of working age adults who are employed - Share',\n",
    "#                          'Unemployment rate - Share',\n",
    "#                          'Population (25 years and older) - Share',\n",
    "#                          'Less than high school - Share',\n",
    "#                          'High school diploma or GED - Share',\n",
    "#                          \"Some college or associate's degree - Share\",\n",
    "#                          \"Bachelor's degree - Share\",\n",
    "#                          'Graduate or professional degree - Share',\n",
    "#                          'Car; truck; or van (including passengers) - Share',\n",
    "#                          'Public transportation - Share',\n",
    "#                          'Walked; biked; worked at home; or other - Share',\n",
    "#                          'Less than 10 minutes - Share',\n",
    "#                          '10-19 minutes - Share',\n",
    "#                          '20-29 minutes - Share',\n",
    "#                          '30 minutes or longer - Share',\n",
    "#                          'Population without health insurance coverage - Share',\n",
    "                         ]]\n",
    "print(ACS_reduced.shape)\n",
    "ACS_reduced.head(1)"
   ]
  },
  {
   "cell_type": "markdown",
   "metadata": {},
   "source": [
    "### Neighborhood info in the Census file\n",
    "http://www.mncompass.org/profiles/neighborhoods/minneapolis-saint-paul\n",
    "\n",
    "Source: 2010 Census counts (courtesy of mncompass.org)"
   ]
  },
  {
   "cell_type": "code",
   "execution_count": null,
   "metadata": {},
   "outputs": [],
   "source": [
    "# Load & Visualize Census data\n",
    "census = pd.read_csv('resources/census_2010.csv', encoding='UTF-8')\n",
    "print(census.shape)\n",
    "census.head(1)"
   ]
  },
  {
   "cell_type": "code",
   "execution_count": null,
   "metadata": {},
   "outputs": [],
   "source": [
    "# Reduce columns, matching to ACS dataframe\n",
    "census_reduced = census[['Neighborhood', 'City', 'Total population',\n",
    "                         'White - Share',\n",
    "                         'Of Color - Share',\n",
    "                         'Total housing units',\n",
    "                         'Total households',\n",
    "                         'Family households - Share',\n",
    "                         'Married-couple family households - Share',\n",
    "                         'Nonfamily households - Share',\n",
    "                         'Vacant housing units - Share',\n",
    "                         'Occupied housing units - Share',\n",
    "                         'Average household size (occupied)',\n",
    "                         'Owner-occupied - Share',\n",
    "                         'Average owner-occupied household size',\n",
    "                         'Renter-occupied - Share',\n",
    "                         'Average renter-occupied household size',\n",
    "                         ]]\n",
    "print(census_reduced.shape)\n",
    "census_reduced.head(1)"
   ]
  },
  {
   "cell_type": "code",
   "execution_count": null,
   "metadata": {},
   "outputs": [],
   "source": [
    "# Merge ACS & census files & visualize data\n",
    "merged_census_mini = pd.merge(ACS_reduced, census_reduced, how = 'outer')\n",
    "print(merged_census_mini.shape)\n",
    "merged_census_mini.head(20)"
   ]
  },
  {
   "cell_type": "code",
   "execution_count": null,
   "metadata": {},
   "outputs": [],
   "source": [
    "merged_census_mini.replace('%', '', regex=True, inplace = True)\n",
    "merged_census_mini.head(1)"
   ]
  },
  {
   "cell_type": "code",
   "execution_count": null,
   "metadata": {},
   "outputs": [],
   "source": [
    "# Save merged file to csv\n",
    "merged_census_mini.to_csv('resources/merged_census_mini.csv', index=False)"
   ]
  },
  {
   "cell_type": "code",
   "execution_count": null,
   "metadata": {},
   "outputs": [],
   "source": [
    "# Reload csv as it changes all data types to floats\n",
    "merged_census_mini = pd.read_csv('resources/merged_census_mini.csv', encoding='UTF-8')"
   ]
  },
  {
   "cell_type": "markdown",
   "metadata": {},
   "source": [
    "### Minneapolis crime data\n",
    "https://opendata.minneapolismn.gov/datasets/neighborhood-crime-stats"
   ]
  },
  {
   "cell_type": "code",
   "execution_count": null,
   "metadata": {},
   "outputs": [],
   "source": [
    "# Load & Visualize Mpls crime data\n",
    "mplsCrime = pd.read_csv('resources/crime_mpls.csv', encoding='UTF-8')\n",
    "print(mplsCrime.shape)\n",
    "mplsCrime.head(1)"
   ]
  },
  {
   "cell_type": "code",
   "execution_count": null,
   "metadata": {},
   "outputs": [],
   "source": [
    "# Filter out unassigned neighborhoods\n",
    "mplsCrime = mplsCrime.loc[(mplsCrime['neighborhood'] != '** Not Assigned **') &\\\n",
    "                        (mplsCrime['neighborhood'] != 'Z_** Not Assigned **'), :]\n",
    "\n",
    "print(mplsCrime.shape)"
   ]
  },
  {
   "cell_type": "code",
   "execution_count": null,
   "metadata": {},
   "outputs": [],
   "source": [
    "# Filter out 2017 incidents\n",
    "mplsCrime = mplsCrime.loc[(mplsCrime['reportYear'] != 2017)]\n",
    "print(mplsCrime.shape)"
   ]
  },
  {
   "cell_type": "code",
   "execution_count": null,
   "metadata": {},
   "outputs": [],
   "source": [
    "# Drop NaNs as they represents 0\n",
    "mplsCrime.dropna(how = 'any', inplace = True)\n",
    "print(mplsCrime.shape)"
   ]
  },
  {
   "cell_type": "code",
   "execution_count": null,
   "metadata": {},
   "outputs": [],
   "source": [
    "# Filter data with 0 values & convert to integer\n",
    "mplsCrime = mplsCrime.loc[(mplsCrime['number'] != 0), :]\n",
    "mplsCrime['number'] = mplsCrime['number'].astype('int64')\n",
    "print(mplsCrime.shape)"
   ]
  },
  {
   "cell_type": "code",
   "execution_count": null,
   "metadata": {},
   "outputs": [],
   "source": [
    "# Add City column\n",
    "mplsCrime['City'] = 'Minneapolis'\n",
    "\n",
    "# Eliminate columns\n",
    "mplsCrime = mplsCrime[['City', 'neighborhood', 'ucrDescription','reportMonth', 'reportYear', 'number']]\n",
    "\n",
    "# Rename columns\n",
    "mplsCrime.columns = ['City', 'Hood', 'Incident', 'Month', 'Year', 'Count']\n",
    "\n",
    "mplsCrime.head()"
   ]
  },
  {
   "cell_type": "code",
   "execution_count": null,
   "metadata": {},
   "outputs": [],
   "source": [
    "# Update hood names to match other data sources\n",
    "mplsCrime['Hood'] = mplsCrime['Hood'].str.replace\\\n",
    "                ('Bryn - Mawr', 'Bryn Mawr').str.replace\\\n",
    "                ('Cedar - Isles - Dean', 'Cedar-Isles-Dean').str.replace\\\n",
    "                ('Como', 'Como (Minneapolis)').str.replace\\\n",
    "                ('Ecco', 'ECCO').str.replace\\\n",
    "                ('Lind - Bohanon', 'Lind-Bohanon').str.replace\\\n",
    "                ('Mid - City Industrial', 'Mid-City Industrial').str.replace\\\n",
    "                ('Near - North', 'Near North').str.replace\\\n",
    "                ('Carag', 'South Uptown').str.replace\\\n",
    "                ('Sumner - Glenwood', 'Sumner-Glenwood').str.replace\\\n",
    "                ('University Of Minnesota', 'University of Minnesota').str.replace\\\n",
    "                ('Webber - Camden', 'Webber-Camden').str.replace\\\n",
    "                ('Willard - Hay', 'Willard-Hay').str.replace\\\n",
    "                ('Webber - Camden', 'Webber-Camden')"
   ]
  },
  {
   "cell_type": "markdown",
   "metadata": {},
   "source": [
    "### St. Paul crime data\n",
    "https://information.stpaul.gov/Public-Safety/Crime-Incident-Report-Dataset/gppb-g9cg"
   ]
  },
  {
   "cell_type": "code",
   "execution_count": null,
   "metadata": {},
   "outputs": [],
   "source": [
    "# Load & Visualize St. Paul crime data\n",
    "spCrime = pd.read_csv('resources/crime_st_paul.csv', encoding='UTF-8')\n",
    "print(spCrime.shape)\n",
    "spCrime.head(1)"
   ]
  },
  {
   "cell_type": "code",
   "execution_count": null,
   "metadata": {},
   "outputs": [],
   "source": [
    "# Filter out unwanted crimes\n",
    "spCrime = spCrime.loc[(spCrime['INCIDENT'] == 'Theft') |\\\n",
    "                        (spCrime['INCIDENT'] == 'Auto Theft') |\\\n",
    "                        (spCrime['INCIDENT'] == 'Burglary') |\\\n",
    "                        (spCrime['INCIDENT'] == 'Agg. Assault') |\\\n",
    "                        (spCrime['INCIDENT'] == 'Robbery') |\\\n",
    "                        (spCrime['INCIDENT'] == 'Agg. Assault Dom.') |\\\n",
    "                        (spCrime['INCIDENT'] == 'Arson') |\\\n",
    "                        (spCrime['INCIDENT'] == 'Rape') |\\\n",
    "                        (spCrime['INCIDENT'] == 'Homicide'), :]\n",
    "print(spCrime.shape)"
   ]
  },
  {
   "cell_type": "code",
   "execution_count": null,
   "metadata": {},
   "outputs": [],
   "source": [
    "# Match remaining crime names to mpls data\n",
    "spCrime['INCIDENT'] = spCrime['INCIDENT'].str.replace\\\n",
    "                ('Agg. Assault Dom.', 'Aggravated Assault').str.replace\\\n",
    "                ('Agg. Assault', 'Aggravated Assault').str.replace\\\n",
    "                ('Theft', 'Larceny').str.replace\\\n",
    "                ('Auto Larceny', 'Auto Theft')"
   ]
  },
  {
   "cell_type": "code",
   "execution_count": null,
   "metadata": {},
   "outputs": [],
   "source": [
    "# Convert date column\n",
    "spCrime['DATE'] = pd.to_datetime(spCrime['DATE'])\n",
    "\n",
    "# Create month & year columns to match mpls data\n",
    "spCrime['Month'] = spCrime['DATE'].dt.month\n",
    "spCrime['Year'] = spCrime['DATE'].dt.year\n",
    "\n",
    "# Filter to 2018 - 2020\n",
    "spCrime = spCrime.loc[(spCrime['DATE'] >= '01-01-2018') &\\\n",
    "                        (spCrime['DATE'] < '10-1-2020'), :]\n",
    "print(spCrime.shape)\n",
    "spCrime.head(2)"
   ]
  },
  {
   "cell_type": "code",
   "execution_count": null,
   "metadata": {},
   "outputs": [],
   "source": [
    "# Add city column\n",
    "spCrime['City'] = 'St. Paul'\n",
    "\n",
    "# Eliminate columns & reorganize\n",
    "spCrime = spCrime[['City', 'NEIGHBORHOOD NAME', 'INCIDENT', 'Month', 'Year', 'Count']]\n",
    "\n",
    "# Rename columns\n",
    "spCrime.columns = ['City', 'Hood', 'Incident', 'Month', 'Year', 'Count']\n",
    "\n",
    "spCrime.head()"
   ]
  },
  {
   "cell_type": "code",
   "execution_count": null,
   "metadata": {},
   "outputs": [],
   "source": [
    "# Parse hood name\n",
    "spCrime['Hood'] = spCrime['Hood'].str.split(' - ', expand = True)[1]\n",
    "spCrime.head(2)"
   ]
  },
  {
   "cell_type": "code",
   "execution_count": null,
   "metadata": {},
   "outputs": [],
   "source": [
    "# Update hood names to match other data sources\n",
    "spCrime['Hood'] = spCrime['Hood'].str.replace('/', '-').str.replace\\\n",
    "                ('Capitol River', 'Downtown').str.replace\\\n",
    "                ('Como', 'Como (St. Paul)').str.replace\\\n",
    "                ('Conway-Battlecreek-Highwood', 'Battle Creek-Highwood').str.replace\\\n",
    "                ('St. Anthony', 'St. Anthony Park').str.replace\\\n",
    "                ('(','/').str.replace(')','')"
   ]
  },
  {
   "cell_type": "code",
   "execution_count": null,
   "metadata": {},
   "outputs": [],
   "source": [
    "# Groupby \n",
    "spCrime = spCrime.groupby(['City', 'Hood', 'Year', 'Month', 'Incident'])['Count']\\\n",
    "        .count().to_frame().reset_index()\n",
    "print(spCrime.shape)\n",
    "spCrime.head(10)"
   ]
  },
  {
   "cell_type": "code",
   "execution_count": null,
   "metadata": {},
   "outputs": [],
   "source": [
    "# Merge Mpls & St. Paul files & visualize data\n",
    "merged_crime = pd.merge(mplsCrime, spCrime, how = \"outer\")\n",
    "print(merged_crime.shape)\n",
    "merged_crime.head(1)"
   ]
  },
  {
   "cell_type": "code",
   "execution_count": null,
   "metadata": {},
   "outputs": [],
   "source": [
    "# Save merged file to csv\n",
    "merged_crime.to_csv('resources/merged_crime.csv', index=False)"
   ]
  },
  {
   "cell_type": "code",
   "execution_count": null,
   "metadata": {},
   "outputs": [],
   "source": [
    "# Reload csv as it changes all data types to floats\n",
    "merged_crime = pd.read_csv('resources/merged_crime.csv', encoding='UTF-8')\n",
    "merged_crime.head()"
   ]
  },
  {
   "cell_type": "code",
   "execution_count": null,
   "metadata": {},
   "outputs": [],
   "source": [
    "groupby = merged_crime.groupby(['City', 'Year', 'Incident']).sum()\n",
    "groupby"
   ]
  },
  {
   "cell_type": "code",
   "execution_count": null,
   "metadata": {},
   "outputs": [],
   "source": []
  }
 ],
 "metadata": {
  "kernelspec": {
   "display_name": "Python 3.6.10 64-bit ('NewPythonData': conda)",
   "language": "python",
   "name": "python361064bitnewpythondataconda482278f60edf4a67b1da8eed8d43fbf2"
  },
  "language_info": {
   "codemirror_mode": {
    "name": "ipython",
    "version": 3
   },
   "file_extension": ".py",
   "mimetype": "text/x-python",
   "name": "python",
   "nbconvert_exporter": "python",
   "pygments_lexer": "ipython3",
   "version": "3.6.10"
  }
 },
 "nbformat": 4,
 "nbformat_minor": 4
}
